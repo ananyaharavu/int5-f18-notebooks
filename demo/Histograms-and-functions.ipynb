{
 "cells": [
  {
   "cell_type": "code",
   "execution_count": 2,
   "metadata": {},
   "outputs": [],
   "source": [
    "import numpy as np\n",
    "from datascience import *\n",
    "\n",
    "%matplotlib inline\n",
    "import matplotlib.pyplot as plots\n",
    "plots.style.use('fivethirtyeight')"
   ]
  },
  {
   "cell_type": "markdown",
   "metadata": {},
   "source": [
    "# Histograms and Functions\n",
    "\n",
    "Topics to go over:\n",
    "\n",
    "- Histograms (Question 2.1 - 2.5)\n",
    "    - Horizontal and vertical axes \n",
    "    - Counts in bins, Unequal bins\n",
    "    - General principle/ Calculations\n",
    "    - Bar chart vs. Histograms\n",
    "\n",
    "- Functions \n",
    "    - `def` statements (Question 3.1 , 4.1)\n",
    "    - `apply` (Question 3.2)\n",
    "    - Functions as values "
   ]
  },
  {
   "cell_type": "markdown",
   "metadata": {},
   "source": [
    "# Social Security Association\n",
    "\n",
    "Every year, the SSA records all of the baby names who have social security numbers. The \"Count\" column describes how many people of each name were born in that year. \n",
    "For example, there were 295 female Marys in California in the year 1910. (The first row in the `baby_names` table.)\n",
    "\n",
    "The table is already given to you pre-sorted in descending order  by ..."
   ]
  },
  {
   "cell_type": "code",
   "execution_count": 3,
   "metadata": {},
   "outputs": [
    {
     "data": {
      "text/html": [
       "<table border=\"1\" class=\"dataframe\">\n",
       "    <thead>\n",
       "        <tr>\n",
       "            <th>State</th> <th>Gender</th> <th>Year</th> <th>Name</th> <th>Count</th>\n",
       "        </tr>\n",
       "    </thead>\n",
       "    <tbody>\n",
       "        <tr>\n",
       "            <td>CA   </td> <td>F     </td> <td>1910</td> <td>Mary     </td> <td>295  </td>\n",
       "        </tr>\n",
       "        <tr>\n",
       "            <td>CA   </td> <td>F     </td> <td>1910</td> <td>Helen    </td> <td>239  </td>\n",
       "        </tr>\n",
       "        <tr>\n",
       "            <td>CA   </td> <td>F     </td> <td>1910</td> <td>Dorothy  </td> <td>220  </td>\n",
       "        </tr>\n",
       "        <tr>\n",
       "            <td>CA   </td> <td>F     </td> <td>1910</td> <td>Margaret </td> <td>163  </td>\n",
       "        </tr>\n",
       "        <tr>\n",
       "            <td>CA   </td> <td>F     </td> <td>1910</td> <td>Frances  </td> <td>134  </td>\n",
       "        </tr>\n",
       "        <tr>\n",
       "            <td>CA   </td> <td>F     </td> <td>1910</td> <td>Ruth     </td> <td>128  </td>\n",
       "        </tr>\n",
       "        <tr>\n",
       "            <td>CA   </td> <td>F     </td> <td>1910</td> <td>Evelyn   </td> <td>126  </td>\n",
       "        </tr>\n",
       "        <tr>\n",
       "            <td>CA   </td> <td>F     </td> <td>1910</td> <td>Alice    </td> <td>118  </td>\n",
       "        </tr>\n",
       "        <tr>\n",
       "            <td>CA   </td> <td>F     </td> <td>1910</td> <td>Virginia </td> <td>101  </td>\n",
       "        </tr>\n",
       "        <tr>\n",
       "            <td>CA   </td> <td>F     </td> <td>1910</td> <td>Elizabeth</td> <td>93   </td>\n",
       "        </tr>\n",
       "    </tbody>\n",
       "</table>\n",
       "<p>... (361118 rows omitted)</p>"
      ],
      "text/plain": [
       "State | Gender | Year | Name      | Count\n",
       "CA    | F      | 1910 | Mary      | 295\n",
       "CA    | F      | 1910 | Helen     | 239\n",
       "CA    | F      | 1910 | Dorothy   | 220\n",
       "CA    | F      | 1910 | Margaret  | 163\n",
       "CA    | F      | 1910 | Frances   | 134\n",
       "CA    | F      | 1910 | Ruth      | 128\n",
       "CA    | F      | 1910 | Evelyn    | 126\n",
       "CA    | F      | 1910 | Alice     | 118\n",
       "CA    | F      | 1910 | Virginia  | 101\n",
       "CA    | F      | 1910 | Elizabeth | 93\n",
       "... (361118 rows omitted)"
      ]
     },
     "execution_count": 3,
     "metadata": {},
     "output_type": "execute_result"
    }
   ],
   "source": [
    "# Just run!\n",
    "column_labels = make_array('State', 'Gender', 'Year', 'Name', 'Count')\n",
    "baby_names = Table().read_table(\"CA.csv\", names = column_labels)\n",
    "baby_names"
   ]
  },
  {
   "cell_type": "markdown",
   "metadata": {},
   "source": [
    "What was the most popular male name?"
   ]
  },
  {
   "cell_type": "code",
   "execution_count": 5,
   "metadata": {},
   "outputs": [
    {
     "ename": "TypeError",
     "evalue": "object of type 'ellipsis' has no len()",
     "output_type": "error",
     "traceback": [
      "\u001b[0;31m---------------------------------------------------------------------------\u001b[0m",
      "\u001b[0;31mTypeError\u001b[0m                                 Traceback (most recent call last)",
      "\u001b[0;32m<ipython-input-5-3603b1cae158>\u001b[0m in \u001b[0;36m<module>\u001b[0;34m\u001b[0m\n\u001b[0;32m----> 1\u001b[0;31m \u001b[0mbaby_names\u001b[0m\u001b[0;34m.\u001b[0m\u001b[0mwhere\u001b[0m\u001b[0;34m(\u001b[0m\u001b[0;34m...\u001b[0m\u001b[0;34m)\u001b[0m\u001b[0;34m\u001b[0m\u001b[0m\n\u001b[0m",
      "\u001b[0;32m/usr/local/lib/python3.7/site-packages/datascience/tables.py\u001b[0m in \u001b[0;36mwhere\u001b[0;34m(self, column_or_label, value_or_predicate, other)\u001b[0m\n\u001b[1;32m    781\u001b[0m         \u001b[0mColor\u001b[0m \u001b[0;34m|\u001b[0m \u001b[0mShape\u001b[0m \u001b[0;34m|\u001b[0m \u001b[0mAmount\u001b[0m \u001b[0;34m|\u001b[0m \u001b[0mPrice\u001b[0m\u001b[0;34m\u001b[0m\u001b[0m\n\u001b[1;32m    782\u001b[0m         \"\"\"\n\u001b[0;32m--> 783\u001b[0;31m         \u001b[0mcolumn\u001b[0m \u001b[0;34m=\u001b[0m \u001b[0mself\u001b[0m\u001b[0;34m.\u001b[0m\u001b[0m_get_column\u001b[0m\u001b[0;34m(\u001b[0m\u001b[0mcolumn_or_label\u001b[0m\u001b[0;34m)\u001b[0m\u001b[0;34m\u001b[0m\u001b[0m\n\u001b[0m\u001b[1;32m    784\u001b[0m         \u001b[0;32mif\u001b[0m \u001b[0mother\u001b[0m \u001b[0;32mis\u001b[0m \u001b[0;32mnot\u001b[0m \u001b[0;32mNone\u001b[0m\u001b[0;34m:\u001b[0m\u001b[0;34m\u001b[0m\u001b[0m\n\u001b[1;32m    785\u001b[0m             \u001b[0;32massert\u001b[0m \u001b[0mcallable\u001b[0m\u001b[0;34m(\u001b[0m\u001b[0mvalue_or_predicate\u001b[0m\u001b[0;34m)\u001b[0m\u001b[0;34m,\u001b[0m \u001b[0;34m\"Predicate required for 3-arg where\"\u001b[0m\u001b[0;34m\u001b[0m\u001b[0m\n",
      "\u001b[0;32m/usr/local/lib/python3.7/site-packages/datascience/tables.py\u001b[0m in \u001b[0;36m_get_column\u001b[0;34m(self, column_or_label)\u001b[0m\n\u001b[1;32m   1324\u001b[0m             \u001b[0;32mraise\u001b[0m \u001b[0mValueError\u001b[0m\u001b[0;34m(\u001b[0m\u001b[0;34m'label \"{}\" not in labels {}'\u001b[0m\u001b[0;34m.\u001b[0m\u001b[0mformat\u001b[0m\u001b[0;34m(\u001b[0m\u001b[0mc\u001b[0m\u001b[0;34m,\u001b[0m \u001b[0mself\u001b[0m\u001b[0;34m.\u001b[0m\u001b[0mlabels\u001b[0m\u001b[0;34m)\u001b[0m\u001b[0;34m)\u001b[0m\u001b[0;34m\u001b[0m\u001b[0m\n\u001b[1;32m   1325\u001b[0m         \u001b[0;32melse\u001b[0m\u001b[0;34m:\u001b[0m\u001b[0;34m\u001b[0m\u001b[0m\n\u001b[0;32m-> 1326\u001b[0;31m             \u001b[0;32massert\u001b[0m \u001b[0mlen\u001b[0m\u001b[0;34m(\u001b[0m\u001b[0mc\u001b[0m\u001b[0;34m)\u001b[0m \u001b[0;34m==\u001b[0m \u001b[0mself\u001b[0m\u001b[0;34m.\u001b[0m\u001b[0mnum_rows\u001b[0m\u001b[0;34m,\u001b[0m \u001b[0;34m'column length mismatch'\u001b[0m\u001b[0;34m\u001b[0m\u001b[0m\n\u001b[0m\u001b[1;32m   1327\u001b[0m             \u001b[0;32mreturn\u001b[0m \u001b[0mc\u001b[0m\u001b[0;34m\u001b[0m\u001b[0m\n\u001b[1;32m   1328\u001b[0m \u001b[0;34m\u001b[0m\u001b[0m\n",
      "\u001b[0;31mTypeError\u001b[0m: object of type 'ellipsis' has no len()"
     ]
    }
   ],
   "source": [
    "#baby_names.where(...)"
   ]
  },
  {
   "cell_type": "markdown",
   "metadata": {
    "collapsed": true
   },
   "source": [
    "## Question 1: What's the data?\n",
    "How much data do we have?\n",
    "How many years does this span?\n",
    "How many people did they record?"
   ]
  },
  {
   "cell_type": "code",
   "execution_count": 6,
   "metadata": {},
   "outputs": [
    {
     "name": "stdout",
     "output_type": "stream",
     "text": [
      "Number of entries: Ellipsis\n",
      "Time period of data: Ellipsis to Ellipsis\n",
      "People recorded: Ellipsis\n"
     ]
    }
   ],
   "source": [
    "num_entries = ...\n",
    "earliest_year = ...\n",
    "lastest_year = ...\n",
    "total_people = ...\n",
    "\n",
    "# Don't change anything below\n",
    "print(\"Number of entries: \" + str(num_entries))\n",
    "print(\"Time period of data: \" + str(earliest_year) + \" to \" + str(lastest_year))\n",
    "print(\"People recorded: \" + str(total_people))"
   ]
  },
  {
   "cell_type": "markdown",
   "metadata": {},
   "source": [
    "## Question 2.1: Histograms\n",
    "First, discuss what each entry (row) of the table represents. What do you think a histogram's bins are?\n",
    "\n",
    "Next, make a histogram using the numerical data in the column, Years. Use the `year_bins` as the bins for your histogram. What do you think the histogram is saying? Discuss the x and y axis."
   ]
  },
  {
   "cell_type": "code",
   "execution_count": 7,
   "metadata": {},
   "outputs": [],
   "source": [
    "year_bins = np.arange(1910, 2020, 10)\n",
    "\n",
    "# Make your histogram here"
   ]
  },
  {
   "cell_type": "markdown",
   "metadata": {},
   "source": [
    "*** Write your response here ***"
   ]
  },
  {
   "cell_type": "markdown",
   "metadata": {},
   "source": [
    "## Question 2.2\n",
    "Why do you see a steady increase from 1920 to 2010?"
   ]
  },
  {
   "cell_type": "markdown",
   "metadata": {},
   "source": [
    "*** Write your response here ***\n"
   ]
  },
  {
   "cell_type": "markdown",
   "metadata": {},
   "source": [
    "## Question 2.3\n",
    "Calculate the area in the 1980-1990 bin to get the proportion of names recorded from 1980-1990, and name it `area_80_90`. If we multiply `area_80_90` by the total number of entries, we should get the number of names in that time period. Name this variable `num_names_80_90`.\n",
    "\n",
    "Hint: When we want to calculate the area from a histogram, look at and use the actual displayed histogram.\n",
    "\n",
    "Hint: Remember that the height of the bar is a ratio (area / bin width).",
    "\n",
    "Hint: Remember that the y axis is PERCENT per unit, not PROPORTION per unit!\n",
    "Check your answer by comparing with the number of names "
   ]
  },
  {
   "cell_type": "code",
   "execution_count": null,
   "metadata": {},
   "outputs": [],
   "source": [
    "area_80_90 = ...\n",
    "num_names_80_90 = ...\n",
    "num_names_80_90"
   ]
  },
  {
   "cell_type": "markdown",
   "metadata": {},
   "source": [
    "## Questions 2.4\n",
    "\n",
    "Check your answer by comparing `num_names_80_90` with the actual number of names recorded from 1980 to 1990. To get the actual number, use the `baby_names table`.\n",
    "\n",
    "The number should be close to each other (maybe 5000 off) because the area calculation is not super accurate."
   ]
  },
  {
   "cell_type": "code",
   "execution_count": null,
   "metadata": {},
   "outputs": [],
   "source": [
    "# may take ~10 seconds to load\n",
    "actual = ...\n",
    "actual"
   ]
  },
  {
   "cell_type": "markdown",
   "metadata": {},
   "source": [
    "Your calculation shows that the area of a bin is indeed the proportion of entries in that bin! Remember, the area of a histogram is extremely important!"
   ]
  },
  {
   "cell_type": "markdown",
   "metadata": {},
   "source": [
    "## Question 2.5 \n",
    "\n",
    "Create a visualization that shows the frequency of values in the column, Counts. Use bins that range from 0 to 1000, with the width 50 for each bin. What is interesting about the visualization? What noticable trend do you see? "
   ]
  },
  {
   "cell_type": "code",
   "execution_count": null,
   "metadata": {},
   "outputs": [],
   "source": [
    "# Make your visualization here "
   ]
  },
  {
   "cell_type": "markdown",
   "metadata": {},
   "source": [
    "***Write your answer here***\n"
   ]
  },
  {
   "cell_type": "markdown",
   "metadata": {},
   "source": [
    "## Question 3.1: Let's define a function\n",
    "\n",
    "Usually, we can guess the gender of a person with his or her name. One simple way you might guess is that the names of females more often start with vowels, instead of consonants. Let's find out if that's really true!\n",
    "\n",
    "Define a function, named `first_letter`, that takes in a `name` argument and returns the first letter as a capital letter. For example `first_letter(\"blake\")` will return \"B\".\n",
    "\n",
    "Hint: `str.upper()` capitalizes the entire string \n",
    "\n",
    "Hint 2: `str[index]` will return the letter at a given index (just like `tbl.item(index)` )"
   ]
  },
  {
   "cell_type": "code",
   "execution_count": null,
   "metadata": {},
   "outputs": [],
   "source": [
    "# Write your function here.\n",
    "\n",
    "first_letter(\"blake\") #should return 'B'"
   ]
  },
  {
   "cell_type": "markdown",
   "metadata": {},
   "source": [
    "## Question 3.2\n",
    "Add a column to `baby_names`, named \"First Letter\", that extracts the first letter from the \"Name\" column. Set the new table to `baby_names`."
   ]
  },
  {
   "cell_type": "code",
   "execution_count": null,
   "metadata": {},
   "outputs": [],
   "source": [
    "baby_names = ...\n",
    "baby_names"
   ]
  },
  {
   "cell_type": "markdown",
   "metadata": {},
   "source": [
    "## Question 3.3\n",
    "For each letter, how many people were born with that letter as their first letter of their name?\n",
    "Create a table that has a row for every first letter and the number of people whose names start with that letter. The table should be two columns. (Don't assign the table a name)\n",
    "\n",
    "Sort it in descending order."
   ]
  },
  {
   "cell_type": "code",
   "execution_count": null,
   "metadata": {},
   "outputs": [],
   "source": [
    "# Make the table here\n"
   ]
  },
  {
   "cell_type": "markdown",
   "metadata": {},
   "source": [
    "# Question 4.1 Function Practice (Fun Challenge)"
   ]
  },
  {
   "cell_type": "markdown",
   "metadata": {},
   "source": [
    "Here's a real example of a question that might be asked during programming interviews:\n",
    "Write a Python function that checks whether a passed string is palindrome or not. \n",
    "Note: A palindrome is a word, phrase, or sequence that reads the same backward as forward, e.g., madam or nurses."
   ]
  },
  {
   "cell_type": "code",
   "execution_count": 1,
   "metadata": {},
   "outputs": [],
   "source": [
    "# Write your function here.\n",
    "    "
   ]
  }
 ],
 "metadata": {
  "kernelspec": {
   "display_name": "Python 3",
   "language": "python",
   "name": "python3"
  },
  "language_info": {
   "codemirror_mode": {
    "name": "ipython",
    "version": 3
   },
   "file_extension": ".py",
   "mimetype": "text/x-python",
   "name": "python",
   "nbconvert_exporter": "python",
   "pygments_lexer": "ipython3",
   "version": "3.7.0"
  }
 },
 "nbformat": 4,
 "nbformat_minor": 2
}
