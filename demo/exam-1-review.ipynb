{
 "cells": [
  {
   "cell_type": "code",
   "execution_count": 1,
   "metadata": {},
   "outputs": [],
   "source": [
    "#imports\n",
    "from datascience import *\n",
    "import numpy as np\n",
    "\n",
    "# These lines set up graphing capabilities.\n",
    "import matplotlib\n",
    "%matplotlib inline\n",
    "import matplotlib.pyplot as plt\n",
    "plt.style.use('fivethirtyeight')\n",
    "import warnings\n",
    "warnings.simplefilter('ignore', FutureWarning)"
   ]
  },
  {
   "cell_type": "code",
   "execution_count": 2,
   "metadata": {},
   "outputs": [
    {
     "data": {
      "text/plain": [
       "array([5, 3, 8, 9, 2])"
      ]
     },
     "execution_count": 2,
     "metadata": {},
     "output_type": "execute_result"
    }
   ],
   "source": [
    "#declaring an array to use in the next couple code blocks\n",
    "arr = make_array(5, 3, 8, 9, 2)\n",
    "arr"
   ]
  },
  {
   "cell_type": "code",
   "execution_count": null,
   "metadata": {},
   "outputs": [],
   "source": [
    "# Finds the maximum element of the array\n",
    "max(arr)"
   ]
  },
  {
   "cell_type": "code",
   "execution_count": null,
   "metadata": {},
   "outputs": [],
   "source": [
    "# Finds the minimum element of the array\n",
    "min(arr)"
   ]
  },
  {
   "cell_type": "code",
   "execution_count": null,
   "metadata": {},
   "outputs": [],
   "source": [
    "# Number of elements inside array arr\n",
    "len(arr)"
   ]
  },
  {
   "cell_type": "code",
   "execution_count": null,
   "metadata": {},
   "outputs": [],
   "source": [
    "# Small Demo on rounding which shows how the round function works for different values\n",
    "print (\"round(1.4) = \", round(1.4))\n",
    "print (\"round(1.5) = \", round(1.5))\n",
    "print (\"round(1.6) = \", round(1.6))\n",
    "print (\"round(-1.6) = \", round(-1.6))"
   ]
  },
  {
   "cell_type": "code",
   "execution_count": 3,
   "metadata": {},
   "outputs": [
    {
     "data": {
      "text/plain": [
       "array([ 1.,  2.,  2., -2.])"
      ]
     },
     "execution_count": 3,
     "metadata": {},
     "output_type": "execute_result"
    }
   ],
   "source": [
    "# Round can also be done in batches using np.round which\n",
    "# will apply the round function to each element of the array\n",
    "arr = make_array(1.4, 1.5, 1.6, -1.6)\n",
    "np.round(arr)"
   ]
  },
  {
   "cell_type": "code",
   "execution_count": null,
   "metadata": {},
   "outputs": [],
   "source": [
    "# Abs simply takes the absolute value of the element\n",
    "abs(-5)"
   ]
  },
  {
   "cell_type": "code",
   "execution_count": 4,
   "metadata": {},
   "outputs": [
    {
     "data": {
      "text/plain": [
       "array([2. , 1. , 0. , 1. , 2. , 3.5])"
      ]
     },
     "execution_count": 4,
     "metadata": {},
     "output_type": "execute_result"
    }
   ],
   "source": [
    "# Applies the abs function to each element of the array\n",
    "np.abs(make_array(-2, -1, 0, 1, 2, -3.5))"
   ]
  },
  {
   "cell_type": "code",
   "execution_count": 5,
   "metadata": {},
   "outputs": [
    {
     "data": {
      "text/plain": [
       "3.5"
      ]
     },
     "execution_count": 5,
     "metadata": {},
     "output_type": "execute_result"
    }
   ],
   "source": [
    "# Finds the average of the elements of the array\n",
    "np.average(make_array(2,3,4,5))"
   ]
  },
  {
   "cell_type": "code",
   "execution_count": 6,
   "metadata": {},
   "outputs": [
    {
     "data": {
      "text/plain": [
       "3.5"
      ]
     },
     "execution_count": 6,
     "metadata": {},
     "output_type": "execute_result"
    }
   ],
   "source": [
    "# Finds the mean of the elements of the array\n",
    "np.mean(make_array(2,3,4,5))"
   ]
  },
  {
   "cell_type": "code",
   "execution_count": null,
   "metadata": {},
   "outputs": [],
   "source": [
    "# np.arange with one parameter gives an array with \n",
    "# every value from 0 to the value passed in minus 1\n",
    "np.arange(5)"
   ]
  },
  {
   "cell_type": "code",
   "execution_count": null,
   "metadata": {},
   "outputs": [],
   "source": [
    "# np.arange with two parameters returns an array with \n",
    "# every value starting with the first parameter\n",
    "# up to the second parameter minus 1\n",
    "np.arange(5,10)"
   ]
  },
  {
   "cell_type": "code",
   "execution_count": null,
   "metadata": {},
   "outputs": [],
   "source": [
    "# np.arange with three parameters does the same thing\n",
    "# as the two parameter version, except it uses the \n",
    "# third parameter as the incrementer instead of doing \n",
    "# plus 1 each time\n",
    "np.arange(6,10,2)"
   ]
  },
  {
   "cell_type": "code",
   "execution_count": null,
   "metadata": {},
   "outputs": [],
   "source": [
    "# The .item(x) function returns the xth item of the array\n",
    "arr = make_array(2,5,1,7)\n",
    "arr.item(2)"
   ]
  },
  {
   "cell_type": "code",
   "execution_count": null,
   "metadata": {},
   "outputs": [],
   "source": [
    "# Returns an empty table\n",
    "Table()"
   ]
  },
  {
   "cell_type": "code",
   "execution_count": null,
   "metadata": {},
   "outputs": [],
   "source": [
    "# Returns the table defined in the csv file which the path\n",
    "# parameter references\n",
    "# NOTE: I HAVE NOT DEFINED A \"something.csv\" FILE\n",
    "# IN THIS DIRECTORY SO THIS WILL ERROR\n",
    "Table.read_table(\"something.csv\")"
   ]
  },
  {
   "cell_type": "code",
   "execution_count": null,
   "metadata": {},
   "outputs": [],
   "source": [
    "# Declares a table called courses which we will use in the coming functions\n",
    "courses = Table().with_columns(\n",
    "    \"Course\", make_array(\"INT5\", \"CS16\", \"PHYS1\", \"MATH4A\"),\n",
    "    \"Lecture Time\", make_array(\"TR 9:30-9:45\", \"MW 10:00-11:15\", \"MWF 9:00 - 9:50\", \"MW 10:00-11:15\"),\n",
    "    \"Enrolled\", make_array(72, 91, 249, 103),\n",
    "    \"Capacity\", make_array(75, 100, 250, 125))\n",
    "courses"
   ]
  },
  {
   "cell_type": "code",
   "execution_count": null,
   "metadata": {},
   "outputs": [],
   "source": [
    "# Returns the number of rows in the table\n",
    "courses.num_rows"
   ]
  },
  {
   "cell_type": "code",
   "execution_count": null,
   "metadata": {},
   "outputs": [],
   "source": [
    "# Returns the number of columns in the table\n",
    "courses.num_columns"
   ]
  },
  {
   "cell_type": "code",
   "execution_count": null,
   "metadata": {},
   "outputs": [],
   "source": [
    "# Returns an array containing all the labels for the table\n",
    "courses.labels"
   ]
  },
  {
   "cell_type": "code",
   "execution_count": null,
   "metadata": {},
   "outputs": [],
   "source": [
    "# Creates a new column in our table called \"Available Spots\"\n",
    "# which has the capacity - enrolled for the course\n",
    "courses.with_column(\"Available Spots\", courses.column(\"Capacity\") - courses.column(\"Enrolled\"))\n"
   ]
  },
  {
   "cell_type": "code",
   "execution_count": null,
   "metadata": {},
   "outputs": [],
   "source": [
    "# Returns an array with the values of the column\n",
    "# specified by the parameter\n",
    "courses.column(\"Course\")"
   ]
  },
  {
   "cell_type": "code",
   "execution_count": null,
   "metadata": {},
   "outputs": [],
   "source": [
    "# Returns a new table which is the same as our\n",
    "# original table but only contains the columns specified\n",
    "courses.select(\"Course\", \"Lecture Time\")"
   ]
  },
  {
   "cell_type": "code",
   "execution_count": null,
   "metadata": {},
   "outputs": [],
   "source": [
    "# Returns a new table which is the same as our\n",
    "# original table but doesn't contain the columns specified\n",
    "courses.drop(\"Course\", \"Lecture Time\")"
   ]
  },
  {
   "cell_type": "code",
   "execution_count": null,
   "metadata": {},
   "outputs": [],
   "source": [
    "# Returns a new table with the \"Course\" label\n",
    "# changed to \"Class Name\"\n",
    "courses.relabeled(\"Course\", \"Class Name\")"
   ]
  },
  {
   "cell_type": "code",
   "execution_count": null,
   "metadata": {},
   "outputs": [],
   "source": [
    "# Returns a new table with only the rows specified \n",
    "# by the parameter which can either be an array of \n",
    "# values or a single value\n",
    "courses.take([0,1])"
   ]
  },
  {
   "cell_type": "code",
   "execution_count": null,
   "metadata": {},
   "outputs": [],
   "source": [
    "# Returns a new table sorted by the \"Class Name\" parameter\n",
    "# if the column specified is of string type it is sorted alphabetically\n",
    "# if the column specified is of numerical type it is sorted numerically\n",
    "# You can add an additional parameter descending=True to reverse the order\n",
    "courses.sort(\"Course\")"
   ]
  },
  {
   "cell_type": "code",
   "execution_count": null,
   "metadata": {},
   "outputs": [],
   "source": [
    "# Returns a new table which keeps only the rows where\n",
    "# the value of the column specified as the first parameter\n",
    "# meet the condition defined as the second parameter\n",
    "# See list of predicates for more options\n",
    "courses.where(\"Capacity\", are.above(100))"
   ]
  },
  {
   "cell_type": "code",
   "execution_count": null,
   "metadata": {},
   "outputs": [],
   "source": [
    "# Create a new table which has each unique value of the column \n",
    "# specifed by our parameter along with the number of rows which have that value\n",
    "courses.group(\"Lecture Time\")"
   ]
  },
  {
   "cell_type": "code",
   "execution_count": null,
   "metadata": {},
   "outputs": [],
   "source": [
    "# Creates a scatter plot with the first value as the x-axis\n",
    "# and the second value as the y-axis\n",
    "courses.scatter(\"Enrolled\", \"Capacity\")"
   ]
  },
  {
   "cell_type": "markdown",
   "metadata": {},
   "source": [
    "Some practice problems(using the original courses table which we have redefined below):"
   ]
  },
  {
   "cell_type": "code",
   "execution_count": null,
   "metadata": {},
   "outputs": [],
   "source": [
    "# Declares a table called courses which we will use in the coming functions\n",
    "courses = Table().with_columns(\n",
    "    \"Course\", make_array(\"INT5\", \"CS16\", \"PHYS1\", \"MATH4A\"),\n",
    "    \"Lecture Time\", make_array(\"TR 9:30-9:45\", \"MW 10:00-11:15\", \"MWF 9:00 - 9:50\", \"MW 10:00-11:15\"),\n",
    "    \"Enrolled\", make_array(72, 91, 249, 103),\n",
    "    \"Capacity\", make_array(75, 100, 250, 125))\n",
    "courses"
   ]
  },
  {
   "cell_type": "markdown",
   "metadata": {},
   "source": [
    "Write a line of code which returns a single number indicating the highest capacity for any course"
   ]
  },
  {
   "cell_type": "code",
   "execution_count": null,
   "metadata": {},
   "outputs": [],
   "source": []
  },
  {
   "cell_type": "markdown",
   "metadata": {},
   "source": [
    "Copy your solution from the previous question and modify it so that the return values is the name of the course with the highest capacity"
   ]
  },
  {
   "cell_type": "code",
   "execution_count": null,
   "metadata": {},
   "outputs": [],
   "source": []
  },
  {
   "cell_type": "markdown",
   "metadata": {},
   "source": [
    "Write a line of code which gives us an array of course names sorted by enrollment percentage (Enrolled/Capacity). "
   ]
  },
  {
   "cell_type": "code",
   "execution_count": null,
   "metadata": {},
   "outputs": [],
   "source": []
  },
  {
   "cell_type": "markdown",
   "metadata": {},
   "source": [
    "Write a line of code which returns a single number indicating the total number of students enrolled in courses which have more than 100 students."
   ]
  },
  {
   "cell_type": "code",
   "execution_count": null,
   "metadata": {},
   "outputs": [],
   "source": []
  }
 ],
 "metadata": {
  "kernelspec": {
   "display_name": "Python 3",
   "language": "python",
   "name": "python3"
  },
  "language_info": {
   "codemirror_mode": {
    "name": "ipython",
    "version": 3
   },
   "file_extension": ".py",
   "mimetype": "text/x-python",
   "name": "python",
   "nbconvert_exporter": "python",
   "pygments_lexer": "ipython3",
   "version": "3.6.5"
  }
 },
 "nbformat": 4,
 "nbformat_minor": 2
}
